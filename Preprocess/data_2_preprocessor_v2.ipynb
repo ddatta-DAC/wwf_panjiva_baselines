{
 "cells": [
  {
   "cell_type": "code",
   "execution_count": 19,
   "metadata": {},
   "outputs": [],
   "source": [
    "from numpy import genfromtxt\n",
    "import numpy as np\n",
    "import matplotlib.pyplot as plt\n",
    "import seaborn as sns\n",
    "import pandas as pd\n",
    "from scipy.stats import entropy\n",
    "from math import log, e\n",
    "import math\n",
    "from sklearn.utils import shuffle\n",
    "import os\n",
    "import pickle\n",
    "from scipy.stats import iqr\n",
    "from sklearn.model_selection import train_test_split"
   ]
  },
  {
   "cell_type": "code",
   "execution_count": 20,
   "metadata": {},
   "outputs": [],
   "source": [
    "my_data = genfromtxt('../Data/data_2/covtype.data', delimiter=',')"
   ]
  },
  {
   "cell_type": "code",
   "execution_count": 21,
   "metadata": {},
   "outputs": [
    {
     "data": {
      "text/plain": [
       "(581012, 55)"
      ]
     },
     "execution_count": 21,
     "metadata": {},
     "output_type": "execute_result"
    }
   ],
   "source": [
    "my_data.shape"
   ]
  },
  {
   "cell_type": "code",
   "execution_count": 22,
   "metadata": {},
   "outputs": [
    {
     "name": "stdout",
     "output_type": "stream",
     "text": [
      "Class : 1.0 | count : 211840\n",
      "Class : 2.0 | count : 283301\n",
      "Class : 3.0 | count : 35754\n",
      "Class : 4.0 | count : 2747\n",
      "Class : 5.0 | count : 9493\n",
      "Class : 6.0 | count : 17367\n",
      "Class : 7.0 | count : 20510\n"
     ]
    }
   ],
   "source": [
    "for i in set(my_data[:,-1]) :\n",
    "    _list = list(my_data[:,-1])\n",
    "    c = _list.count(i)\n",
    "    print('Class :', i,'| count :',c )"
   ]
  },
  {
   "cell_type": "code",
   "execution_count": 23,
   "metadata": {},
   "outputs": [],
   "source": [
    "# there are 7 classes \n",
    "# taking the majority class as normal and the class(es) with minimum number of points as anomalous\n",
    "# this assumption has been done in CompreX\n",
    "\n",
    "normal_class = 2\n",
    "anomaly_class = [4 ,5 ,6 ]"
   ]
  },
  {
   "cell_type": "code",
   "execution_count": 24,
   "metadata": {},
   "outputs": [
    {
     "name": "stdout",
     "output_type": "stream",
     "text": [
      "[0, 1, 2, 3, 4, 5, 6, 7, 8, 9, 10, 11, 12, 13, 14, 15, 16, 17, 18, 19, 20, 21, 22, 23, 24, 25, 26, 27, 28, 29, 30, 31, 32, 33, 34, 35, 36, 37, 38, 39, 40, 41, 42, 43, 44, 45, 46, 47, 48, 49, 50, 51, 52, 53, 54]\n"
     ]
    }
   ],
   "source": [
    "df = pd.DataFrame(data=my_data)\n",
    "print(list(df.columns))"
   ]
  },
  {
   "cell_type": "markdown",
   "metadata": {},
   "source": [
    "0 Elevation / quantitative /meters / Elevation in meters \n",
    "\n",
    "1 Aspect / quantitative / azimuth / Aspect in degrees azimuth \n",
    "\n",
    "2 Slope / quantitative / degrees / Slope in degrees \n",
    "\n",
    "3 Horizontal_Distance_To_Hydrology / quantitative / meters / Horz Dist to nearest surface water features\n",
    "\n",
    "4 Vertical_Distance_To_Hydrology / quantitative / meters / Vert Dist to nearest surface water features \n",
    "\n",
    "5 Horizontal_Distance_To_Roadways / quantitative / meters / Horz Dist to nearest roadway \n",
    "\n",
    "6 Hillshade_9am / quantitative / 0 to 255 index / Hillshade index at 9am, summer solstice \n",
    "\n",
    "7 Hillshade_Noon / quantitative / 0 to 255 index / Hillshade index at noon, summer soltice \n",
    "\n",
    "8 Hillshade_3pm / quantitative / 0 to 255 index / Hillshade index at 3pm, summer solstice \n",
    "\n",
    "9 Horizontal_Distance_To_Fire_Points / quantitative / meters / Horz Dist to nearest wildfire ignition points \n",
    "\n",
    "10-13 Wilderness_Area (4 binary columns) / qualitative / 0 (absence) or 1 (presence) / Wilderness area designation \n",
    "\n",
    "14-53 Soil_Type (40 binary columns) / qualitative / 0 (absence) or 1 (presence) / Soil Type designation \n",
    "\n",
    "54 Cover_Type (7 types) / integer / 1 to 7 / Forest Cover Type designation"
   ]
  },
  {
   "cell_type": "code",
   "execution_count": 25,
   "metadata": {},
   "outputs": [],
   "source": [
    "# Join up columns 14 to 53"
   ]
  },
  {
   "cell_type": "code",
   "execution_count": 26,
   "metadata": {},
   "outputs": [],
   "source": [
    "for c in range(14,53+1):\n",
    "    df[c] = df[c].astype(int)"
   ]
  },
  {
   "cell_type": "code",
   "execution_count": null,
   "metadata": {},
   "outputs": [],
   "source": []
  },
  {
   "cell_type": "code",
   "execution_count": 27,
   "metadata": {},
   "outputs": [],
   "source": [
    "# join up column\n",
    "# 14 to 54 is  soil type\n",
    "\n",
    "\n",
    "df['soil_type'] = None\n",
    "def join_14_53(row):\n",
    "    r = list(row[list(range(14,54))])\n",
    "    r = np.argmax(r)\n",
    "    return r\n",
    "    \n",
    "df['soil_type'] = df.apply(join_14_53,axis=1)"
   ]
  },
  {
   "cell_type": "code",
   "execution_count": 28,
   "metadata": {},
   "outputs": [
    {
     "data": {
      "text/plain": [
       "40"
      ]
     },
     "execution_count": 28,
     "metadata": {},
     "output_type": "execute_result"
    }
   ],
   "source": [
    "len(set(df['soil_type']))"
   ]
  },
  {
   "cell_type": "code",
   "execution_count": 29,
   "metadata": {},
   "outputs": [],
   "source": [
    "for r in list(range(14,54)):\n",
    "    try:\n",
    "        del df[r]\n",
    "    except:\n",
    "        pass"
   ]
  },
  {
   "cell_type": "code",
   "execution_count": null,
   "metadata": {},
   "outputs": [],
   "source": []
  },
  {
   "cell_type": "code",
   "execution_count": 30,
   "metadata": {},
   "outputs": [],
   "source": [
    "\n",
    "df['wa'] = None\n",
    "def join_10_13(row):\n",
    "    r = list(row[list(range(10,14))])\n",
    "    r = np.argmax(r)\n",
    "    return r\n",
    "    \n",
    "df['wa'] = df.apply(join_10_13,axis=1)"
   ]
  },
  {
   "cell_type": "code",
   "execution_count": 31,
   "metadata": {},
   "outputs": [],
   "source": [
    "for r in list(range(10,14)):\n",
    "    try:\n",
    "        del df[r]\n",
    "    except:\n",
    "        pass"
   ]
  },
  {
   "cell_type": "code",
   "execution_count": 32,
   "metadata": {},
   "outputs": [],
   "source": [
    "df_new = pd.DataFrame(df,copy=True)"
   ]
  },
  {
   "cell_type": "code",
   "execution_count": 33,
   "metadata": {},
   "outputs": [
    {
     "data": {
      "text/plain": [
       "Index([0, 1, 2, 3, 4, 5, 6, 7, 8, 9, 54, 'soil_type', 'wa'], dtype='object')"
      ]
     },
     "execution_count": 33,
     "metadata": {},
     "output_type": "execute_result"
    }
   ],
   "source": [
    "df_new.columns"
   ]
  },
  {
   "cell_type": "code",
   "execution_count": null,
   "metadata": {},
   "outputs": [],
   "source": []
  },
  {
   "cell_type": "code",
   "execution_count": 34,
   "metadata": {},
   "outputs": [],
   "source": [
    "bin_list = list(range(0,10))"
   ]
  },
  {
   "cell_type": "code",
   "execution_count": 35,
   "metadata": {},
   "outputs": [
    {
     "name": "stdout",
     "output_type": "stream",
     "text": [
      "1978 float64\n",
      "--\n",
      "> 1978\n",
      "361 float64\n",
      "--\n",
      "> 361\n",
      "67 float64\n",
      "--\n",
      "> 67\n",
      "551 float64\n",
      "--\n",
      "> 551\n",
      "700 float64\n",
      "--\n",
      "> 700\n",
      "5785 float64\n",
      "--\n",
      "> 5785\n",
      "207 float64\n",
      "--\n",
      "> 207\n",
      "185 float64\n",
      "--\n",
      "> 185\n",
      "255 float64\n",
      "--\n",
      "> 255\n",
      "5827 float64\n",
      "--\n",
      "> 5827\n",
      "7 float64\n",
      "40 int64\n",
      "4 int64\n"
     ]
    }
   ],
   "source": [
    "for i in df_new.columns:\n",
    "    vals = set(list(df_new[i]))\n",
    "    print(len(vals), df_new[i].dtype)\n",
    "    if str(df_new[i].dtype) == 'float64' and i in bin_list:\n",
    "        print('--')\n",
    "        print('>',len(set(df_new[i])))\n",
    "        if len(set(df[i]))>2:\n",
    "            bins = 25\n",
    "            labels=list(range(0,bins))\n",
    "            df_new[i] = pd.cut(df_new[i], bins,labels=labels)\n",
    "#             print('>',set(x))\n",
    "        \n",
    "        \n",
    "        "
   ]
  },
  {
   "cell_type": "code",
   "execution_count": 36,
   "metadata": {},
   "outputs": [],
   "source": [
    "df_new = df_new.rename(columns = {54:'tag'})\n"
   ]
  },
  {
   "cell_type": "code",
   "execution_count": 37,
   "metadata": {},
   "outputs": [
    {
     "data": {
      "text/html": [
       "<div>\n",
       "<style scoped>\n",
       "    .dataframe tbody tr th:only-of-type {\n",
       "        vertical-align: middle;\n",
       "    }\n",
       "\n",
       "    .dataframe tbody tr th {\n",
       "        vertical-align: top;\n",
       "    }\n",
       "\n",
       "    .dataframe thead th {\n",
       "        text-align: right;\n",
       "    }\n",
       "</style>\n",
       "<table border=\"1\" class=\"dataframe\">\n",
       "  <thead>\n",
       "    <tr style=\"text-align: right;\">\n",
       "      <th></th>\n",
       "      <th>0</th>\n",
       "      <th>1</th>\n",
       "      <th>2</th>\n",
       "      <th>3</th>\n",
       "      <th>4</th>\n",
       "      <th>5</th>\n",
       "      <th>6</th>\n",
       "      <th>7</th>\n",
       "      <th>8</th>\n",
       "      <th>9</th>\n",
       "      <th>tag</th>\n",
       "      <th>soil_type</th>\n",
       "      <th>wa</th>\n",
       "    </tr>\n",
       "  </thead>\n",
       "  <tbody>\n",
       "    <tr>\n",
       "      <th>0</th>\n",
       "      <td>9</td>\n",
       "      <td>3</td>\n",
       "      <td>1</td>\n",
       "      <td>4</td>\n",
       "      <td>5</td>\n",
       "      <td>1</td>\n",
       "      <td>21</td>\n",
       "      <td>22</td>\n",
       "      <td>14</td>\n",
       "      <td>21</td>\n",
       "      <td>5.0</td>\n",
       "      <td>28</td>\n",
       "      <td>0</td>\n",
       "    </tr>\n",
       "    <tr>\n",
       "      <th>1</th>\n",
       "      <td>9</td>\n",
       "      <td>3</td>\n",
       "      <td>0</td>\n",
       "      <td>3</td>\n",
       "      <td>5</td>\n",
       "      <td>1</td>\n",
       "      <td>21</td>\n",
       "      <td>23</td>\n",
       "      <td>14</td>\n",
       "      <td>21</td>\n",
       "      <td>5.0</td>\n",
       "      <td>28</td>\n",
       "      <td>0</td>\n",
       "    </tr>\n",
       "    <tr>\n",
       "      <th>2</th>\n",
       "      <td>11</td>\n",
       "      <td>9</td>\n",
       "      <td>3</td>\n",
       "      <td>4</td>\n",
       "      <td>7</td>\n",
       "      <td>11</td>\n",
       "      <td>23</td>\n",
       "      <td>23</td>\n",
       "      <td>13</td>\n",
       "      <td>21</td>\n",
       "      <td>2.0</td>\n",
       "      <td>11</td>\n",
       "      <td>0</td>\n",
       "    </tr>\n",
       "  </tbody>\n",
       "</table>\n",
       "</div>"
      ],
      "text/plain": [
       "    0  1  2  3  4   5   6   7   8   9  tag  soil_type  wa\n",
       "0   9  3  1  4  5   1  21  22  14  21  5.0         28   0\n",
       "1   9  3  0  3  5   1  21  23  14  21  5.0         28   0\n",
       "2  11  9  3  4  7  11  23  23  13  21  2.0         11   0"
      ]
     },
     "execution_count": 37,
     "metadata": {},
     "output_type": "execute_result"
    }
   ],
   "source": [
    "# del df['tag']\n",
    "df_new.head(3)"
   ]
  },
  {
   "cell_type": "code",
   "execution_count": 38,
   "metadata": {},
   "outputs": [
    {
     "name": "stdout",
     "output_type": "stream",
     "text": [
      "Class : 1.0 | count : 211840\n",
      "Class : 2.0 | count : 283301\n",
      "Class : 3.0 | count : 35754\n",
      "Class : 4.0 | count : 2747\n",
      "Class : 5.0 | count : 9493\n",
      "Class : 6.0 | count : 17367\n",
      "Class : 7.0 | count : 20510\n"
     ]
    }
   ],
   "source": [
    "for i in set(df_new['tag']) :\n",
    "    _list = list(df_new['tag'])\n",
    "    c = _list.count(i)\n",
    "    print('Class :', i,'| count :',c )"
   ]
  },
  {
   "cell_type": "code",
   "execution_count": 51,
   "metadata": {},
   "outputs": [],
   "source": [
    "df_1 = df_new.loc[df_new['tag'].isin(anomaly_class)]\n",
    "df_2 = df_new.loc[df_new['tag'].isin([normal_class])].sample(75000)\n",
    "df_new_1 = df_1.append(df_2,ignore_index=True)\n"
   ]
  },
  {
   "cell_type": "code",
   "execution_count": 52,
   "metadata": {},
   "outputs": [
    {
     "data": {
      "text/plain": [
       "Index([0, 1, 2, 3, 4, 5, 6, 7, 8, 9, 'tag', 'soil_type', 'wa'], dtype='object')"
      ]
     },
     "execution_count": 52,
     "metadata": {},
     "output_type": "execute_result"
    }
   ],
   "source": [
    "df_new_1.columns"
   ]
  },
  {
   "cell_type": "code",
   "execution_count": 53,
   "metadata": {},
   "outputs": [],
   "source": [
    "def entropy_calc(labels):\n",
    "    n_labels = len(labels)\n",
    "    if n_labels <= 1:\n",
    "        return 0\n",
    "\n",
    "    value,counts = np.unique(labels, return_counts=True)\n",
    "    probs = counts / n_labels\n",
    "    n_classes = np.count_nonzero(probs)\n",
    "\n",
    "    if n_classes <= 1:\n",
    "        return 0\n",
    "\n",
    "    ent = 0.\n",
    "    base = math.e \n",
    "    for i in probs:\n",
    "        ent -= i * log(i, base)\n",
    "    k = len(value)\n",
    "    ent = ent/log(k,base)\n",
    "    return ent"
   ]
  },
  {
   "cell_type": "code",
   "execution_count": 54,
   "metadata": {},
   "outputs": [
    {
     "name": "stdout",
     "output_type": "stream",
     "text": [
      "0 0.8650569621707557\n",
      "1 0.9783306216591787\n",
      "2 0.7615499758547855\n",
      "3 0.7660416608870285\n",
      "4 0.5677316397529477\n",
      "5 0.8935230290135168\n",
      "6 0.7444918272301876\n",
      "7 0.6786723894197889\n",
      "8 0.8651820984904741\n",
      "9 0.8406929208865732\n",
      "soil_type 0.76987311708144\n",
      "wa 0.7757313389805045\n",
      "Valid attributes [0, 1, 2, 3, 4, 5, 6, 7, 8, 9, 'soil_type', 'wa']\n"
     ]
    }
   ],
   "source": [
    "def get_entropies(df):\n",
    "    # ignore 1st and last columns\n",
    "    num_cols = len(df.columns)\n",
    "    res = {}\n",
    "    \n",
    "    for i in df.columns:  \n",
    "        if i != 'tag':\n",
    "            e = entropy_calc(list(df[i]))\n",
    "            print(i,e)\n",
    "            res[i] = e\n",
    "    return res\n",
    "\n",
    "attr_entropy = get_entropies(df_new_1)\n",
    "\n",
    "\n",
    "attr_list = []\n",
    "lb = 0.0\n",
    "ub = 1.0\n",
    "attr_list = []\n",
    "for k,v in attr_entropy.items():\n",
    "    if v > lb and v < ub:\n",
    "        attr_list.append(k)\n",
    "\n",
    "print('Valid attributes', attr_list)"
   ]
  },
  {
   "cell_type": "code",
   "execution_count": 55,
   "metadata": {},
   "outputs": [
    {
     "data": {
      "text/plain": [
       "Index([0, 1, 2, 3, 4, 5, 6, 7, 8, 9, 'soil_type', 'wa', 'tag'], dtype='object')"
      ]
     },
     "execution_count": 55,
     "metadata": {},
     "output_type": "execute_result"
    }
   ],
   "source": [
    "attr_list =  list(attr_list + ['tag'])\n",
    "df_new_1 = df_new_1[attr_list]\n",
    "df_new_1.columns"
   ]
  },
  {
   "cell_type": "code",
   "execution_count": 56,
   "metadata": {},
   "outputs": [],
   "source": [
    "def replace_attr_with_id(row, attr, val2id_dict):\n",
    "    val = row[attr]\n",
    "    if val not in val2id_dict.keys():\n",
    "        print(attr,val)\n",
    "        return None\n",
    "    else:\n",
    "        return val2id_dict[val]\n",
    "\n",
    "# -------------------- #\n",
    "def convert_to_ids(df, cols , save_dir):\n",
    "    domain_dims_dict = {}\n",
    "    \n",
    "    _idx = 0\n",
    "    for col in cols:\n",
    "        print(col)\n",
    "        vals = list(set(df[col]))\n",
    "        print('count ',len(vals))\n",
    "        id2val_dict = {e[0]: e[1] for e in enumerate(vals, 0)}\n",
    "        file_name = str(col) +'_id2val.pkl'\n",
    "        with open( os.path.join(save_dir,file_name), 'wb') as f:\n",
    "            pickle.dump(id2val_dict, f, pickle.HIGHEST_PROTOCOL)\n",
    "\n",
    "        val2id_dict = {v: k for k, v in id2val_dict.items()}\n",
    "        # replace\n",
    "        df[col] = df.apply(\n",
    "            replace_attr_with_id,\n",
    "            axis=1,\n",
    "            args=(\n",
    "                col,\n",
    "                val2id_dict,\n",
    "            )\n",
    "        )\n",
    "        domain_dims_dict[_idx] = len(id2val_dict)\n",
    "        _idx += 1 \n",
    "    domain_dims = list(domain_dims_dict.values())\n",
    "    domain_dims_res = domain_dims_dict\n",
    "\n",
    "    domain_dims =  np.array(domain_dims)\n",
    "    print(domain_dims)\n",
    "    print(domain_dims_res)\n",
    "    file = 'domain_dims.pkl'\n",
    "    f_path = os.path.join(save_dir, file)\n",
    "\n",
    "    with open(f_path,'wb') as fh:\n",
    "        pickle.dump(\n",
    "            domain_dims_res,\n",
    "            fh,\n",
    "            pickle.HIGHEST_PROTOCOL\n",
    "        )\n",
    "    return df"
   ]
  },
  {
   "cell_type": "code",
   "execution_count": null,
   "metadata": {},
   "outputs": [],
   "source": []
  },
  {
   "cell_type": "code",
   "execution_count": 57,
   "metadata": {},
   "outputs": [],
   "source": [
    "save_dir = '../Data/data_2'"
   ]
  },
  {
   "cell_type": "code",
   "execution_count": 58,
   "metadata": {},
   "outputs": [],
   "source": [
    "_columns = list(df_new_1.columns)\n",
    "try:\n",
    "    _columns.remove('tag')\n",
    "except:\n",
    "    pass"
   ]
  },
  {
   "cell_type": "code",
   "execution_count": 59,
   "metadata": {},
   "outputs": [
    {
     "data": {
      "text/plain": [
       "[0, 1, 2, 3, 4, 5, 6, 7, 8, 9, 'soil_type', 'wa']"
      ]
     },
     "execution_count": 59,
     "metadata": {},
     "output_type": "execute_result"
    }
   ],
   "source": [
    "_columns"
   ]
  },
  {
   "cell_type": "code",
   "execution_count": 60,
   "metadata": {},
   "outputs": [],
   "source": [
    "# ------------------------------------- #\n",
    "# convert all values to int\n",
    "\n",
    "for c in list(_columns):\n",
    "    df_new_1[c] = df_new_1[c].astype(str)  "
   ]
  },
  {
   "cell_type": "code",
   "execution_count": 61,
   "metadata": {},
   "outputs": [
    {
     "data": {
      "text/html": [
       "<div>\n",
       "<style scoped>\n",
       "    .dataframe tbody tr th:only-of-type {\n",
       "        vertical-align: middle;\n",
       "    }\n",
       "\n",
       "    .dataframe tbody tr th {\n",
       "        vertical-align: top;\n",
       "    }\n",
       "\n",
       "    .dataframe thead th {\n",
       "        text-align: right;\n",
       "    }\n",
       "</style>\n",
       "<table border=\"1\" class=\"dataframe\">\n",
       "  <thead>\n",
       "    <tr style=\"text-align: right;\">\n",
       "      <th></th>\n",
       "      <th>0</th>\n",
       "      <th>1</th>\n",
       "      <th>2</th>\n",
       "      <th>3</th>\n",
       "      <th>4</th>\n",
       "      <th>5</th>\n",
       "      <th>6</th>\n",
       "      <th>7</th>\n",
       "      <th>8</th>\n",
       "      <th>9</th>\n",
       "      <th>soil_type</th>\n",
       "      <th>wa</th>\n",
       "      <th>tag</th>\n",
       "    </tr>\n",
       "  </thead>\n",
       "  <tbody>\n",
       "    <tr>\n",
       "      <th>0</th>\n",
       "      <td>9</td>\n",
       "      <td>3</td>\n",
       "      <td>1</td>\n",
       "      <td>4</td>\n",
       "      <td>5</td>\n",
       "      <td>1</td>\n",
       "      <td>21</td>\n",
       "      <td>22</td>\n",
       "      <td>14</td>\n",
       "      <td>21</td>\n",
       "      <td>28</td>\n",
       "      <td>0</td>\n",
       "      <td>5.0</td>\n",
       "    </tr>\n",
       "    <tr>\n",
       "      <th>1</th>\n",
       "      <td>9</td>\n",
       "      <td>3</td>\n",
       "      <td>0</td>\n",
       "      <td>3</td>\n",
       "      <td>5</td>\n",
       "      <td>1</td>\n",
       "      <td>21</td>\n",
       "      <td>23</td>\n",
       "      <td>14</td>\n",
       "      <td>21</td>\n",
       "      <td>28</td>\n",
       "      <td>0</td>\n",
       "      <td>5.0</td>\n",
       "    </tr>\n",
       "    <tr>\n",
       "      <th>2</th>\n",
       "      <td>9</td>\n",
       "      <td>3</td>\n",
       "      <td>0</td>\n",
       "      <td>2</td>\n",
       "      <td>5</td>\n",
       "      <td>1</td>\n",
       "      <td>21</td>\n",
       "      <td>23</td>\n",
       "      <td>14</td>\n",
       "      <td>21</td>\n",
       "      <td>28</td>\n",
       "      <td>0</td>\n",
       "      <td>5.0</td>\n",
       "    </tr>\n",
       "    <tr>\n",
       "      <th>3</th>\n",
       "      <td>9</td>\n",
       "      <td>3</td>\n",
       "      <td>2</td>\n",
       "      <td>4</td>\n",
       "      <td>5</td>\n",
       "      <td>2</td>\n",
       "      <td>21</td>\n",
       "      <td>22</td>\n",
       "      <td>13</td>\n",
       "      <td>21</td>\n",
       "      <td>28</td>\n",
       "      <td>0</td>\n",
       "      <td>5.0</td>\n",
       "    </tr>\n",
       "    <tr>\n",
       "      <th>4</th>\n",
       "      <td>9</td>\n",
       "      <td>3</td>\n",
       "      <td>1</td>\n",
       "      <td>4</td>\n",
       "      <td>5</td>\n",
       "      <td>2</td>\n",
       "      <td>21</td>\n",
       "      <td>22</td>\n",
       "      <td>14</td>\n",
       "      <td>21</td>\n",
       "      <td>28</td>\n",
       "      <td>0</td>\n",
       "      <td>5.0</td>\n",
       "    </tr>\n",
       "    <tr>\n",
       "      <th>5</th>\n",
       "      <td>9</td>\n",
       "      <td>3</td>\n",
       "      <td>3</td>\n",
       "      <td>4</td>\n",
       "      <td>7</td>\n",
       "      <td>2</td>\n",
       "      <td>21</td>\n",
       "      <td>21</td>\n",
       "      <td>13</td>\n",
       "      <td>21</td>\n",
       "      <td>28</td>\n",
       "      <td>0</td>\n",
       "      <td>5.0</td>\n",
       "    </tr>\n",
       "    <tr>\n",
       "      <th>6</th>\n",
       "      <td>9</td>\n",
       "      <td>4</td>\n",
       "      <td>3</td>\n",
       "      <td>4</td>\n",
       "      <td>5</td>\n",
       "      <td>2</td>\n",
       "      <td>22</td>\n",
       "      <td>21</td>\n",
       "      <td>12</td>\n",
       "      <td>21</td>\n",
       "      <td>28</td>\n",
       "      <td>0</td>\n",
       "      <td>5.0</td>\n",
       "    </tr>\n",
       "    <tr>\n",
       "      <th>7</th>\n",
       "      <td>9</td>\n",
       "      <td>13</td>\n",
       "      <td>1</td>\n",
       "      <td>3</td>\n",
       "      <td>7</td>\n",
       "      <td>2</td>\n",
       "      <td>21</td>\n",
       "      <td>23</td>\n",
       "      <td>15</td>\n",
       "      <td>21</td>\n",
       "      <td>17</td>\n",
       "      <td>0</td>\n",
       "      <td>5.0</td>\n",
       "    </tr>\n",
       "    <tr>\n",
       "      <th>8</th>\n",
       "      <td>9</td>\n",
       "      <td>14</td>\n",
       "      <td>2</td>\n",
       "      <td>2</td>\n",
       "      <td>7</td>\n",
       "      <td>2</td>\n",
       "      <td>20</td>\n",
       "      <td>24</td>\n",
       "      <td>16</td>\n",
       "      <td>21</td>\n",
       "      <td>17</td>\n",
       "      <td>0</td>\n",
       "      <td>5.0</td>\n",
       "    </tr>\n",
       "    <tr>\n",
       "      <th>9</th>\n",
       "      <td>8</td>\n",
       "      <td>10</td>\n",
       "      <td>1</td>\n",
       "      <td>1</td>\n",
       "      <td>5</td>\n",
       "      <td>2</td>\n",
       "      <td>22</td>\n",
       "      <td>23</td>\n",
       "      <td>14</td>\n",
       "      <td>19</td>\n",
       "      <td>17</td>\n",
       "      <td>0</td>\n",
       "      <td>5.0</td>\n",
       "    </tr>\n",
       "  </tbody>\n",
       "</table>\n",
       "</div>"
      ],
      "text/plain": [
       "   0   1  2  3  4  5   6   7   8   9 soil_type wa  tag\n",
       "0  9   3  1  4  5  1  21  22  14  21        28  0  5.0\n",
       "1  9   3  0  3  5  1  21  23  14  21        28  0  5.0\n",
       "2  9   3  0  2  5  1  21  23  14  21        28  0  5.0\n",
       "3  9   3  2  4  5  2  21  22  13  21        28  0  5.0\n",
       "4  9   3  1  4  5  2  21  22  14  21        28  0  5.0\n",
       "5  9   3  3  4  7  2  21  21  13  21        28  0  5.0\n",
       "6  9   4  3  4  5  2  22  21  12  21        28  0  5.0\n",
       "7  9  13  1  3  7  2  21  23  15  21        17  0  5.0\n",
       "8  9  14  2  2  7  2  20  24  16  21        17  0  5.0\n",
       "9  8  10  1  1  5  2  22  23  14  19        17  0  5.0"
      ]
     },
     "execution_count": 61,
     "metadata": {},
     "output_type": "execute_result"
    }
   ],
   "source": [
    "df_new_1.head(10)"
   ]
  },
  {
   "cell_type": "code",
   "execution_count": 62,
   "metadata": {},
   "outputs": [
    {
     "name": "stdout",
     "output_type": "stream",
     "text": [
      "0\n",
      "count  20\n",
      "1\n",
      "count  25\n",
      "2\n",
      "count  24\n",
      "3\n",
      "count  25\n",
      "4\n",
      "count  25\n",
      "5\n",
      "count  25\n",
      "6\n",
      "count  22\n",
      "7\n",
      "count  20\n",
      "8\n",
      "count  25\n",
      "9\n",
      "count  25\n",
      "soil_type\n",
      "count  39\n",
      "wa\n",
      "count  4\n",
      "[20 25 24 25 25 25 22 20 25 25 39  4]\n",
      "{0: 20, 1: 25, 2: 24, 3: 25, 4: 25, 5: 25, 6: 22, 7: 20, 8: 25, 9: 25, 10: 39, 11: 4}\n"
     ]
    }
   ],
   "source": [
    "df_new_1 = convert_to_ids(\n",
    "    df_new_1, \n",
    "    _columns , \n",
    "    save_dir\n",
    ")"
   ]
  },
  {
   "cell_type": "markdown",
   "metadata": {},
   "source": [
    "# ADD in ID"
   ]
  },
  {
   "cell_type": "code",
   "execution_count": 63,
   "metadata": {},
   "outputs": [],
   "source": [
    "# add in id\n",
    "new_col = list(range(1,len(df_new_1)+1))\n",
    "try: \n",
    "    df_new_1.insert(\n",
    "        loc=0, \n",
    "        column='id', \n",
    "        value=new_col\n",
    "    )\n",
    "except:\n",
    "    pass"
   ]
  },
  {
   "cell_type": "code",
   "execution_count": 64,
   "metadata": {},
   "outputs": [
    {
     "data": {
      "text/plain": [
       "Index(['id', 0, 1, 2, 3, 4, 5, 6, 7, 8, 9, 'soil_type', 'wa', 'tag'], dtype='object')"
      ]
     },
     "execution_count": 64,
     "metadata": {},
     "output_type": "execute_result"
    }
   ],
   "source": [
    "df_new_1.columns"
   ]
  },
  {
   "cell_type": "code",
   "execution_count": 65,
   "metadata": {},
   "outputs": [
    {
     "data": {
      "text/plain": [
       "75000"
      ]
     },
     "execution_count": 65,
     "metadata": {},
     "output_type": "execute_result"
    }
   ],
   "source": [
    "\n",
    "normal_df = pd.DataFrame(df_new_1[df_new_1['tag']==normal_class],copy=True)\n",
    "len(normal_df)"
   ]
  },
  {
   "cell_type": "code",
   "execution_count": 66,
   "metadata": {},
   "outputs": [
    {
     "data": {
      "text/plain": [
       "29607"
      ]
     },
     "execution_count": 66,
     "metadata": {},
     "output_type": "execute_result"
    }
   ],
   "source": [
    "# get anomalies\n",
    "tmp_df = pd.DataFrame(df_new_1[df_new_1['tag'].isin(anomaly_class)],copy=True)\n",
    "all_anomalies_df = pd.DataFrame(tmp_df,copy=True)\n",
    "len(all_anomalies_df)"
   ]
  },
  {
   "cell_type": "code",
   "execution_count": 69,
   "metadata": {},
   "outputs": [],
   "source": [
    "# set(list(normal_df[7]))"
   ]
  },
  {
   "cell_type": "code",
   "execution_count": 70,
   "metadata": {},
   "outputs": [],
   "source": [
    "normal_df = normal_df.sample(frac=1)\n",
    "# do a 85-15 split \n",
    "test_fac = 0.10\n",
    "anomaly_frac = 0.075\n",
    "num_CV = 5\n",
    "train_x_file = 'train_x.pkl'"
   ]
  },
  {
   "cell_type": "code",
   "execution_count": 71,
   "metadata": {},
   "outputs": [
    {
     "name": "stdout",
     "output_type": "stream",
     "text": [
      "67500 7500\n"
     ]
    }
   ],
   "source": [
    "_df_1 = pd.DataFrame(normal_df,copy=True)\n",
    "training_data, test_normal_df = train_test_split(_df_1, test_size=test_fac)\n",
    "print(len(training_data),len(test_normal_df))\n",
    "train_x_id = list(training_data['id'])"
   ]
  },
  {
   "cell_type": "code",
   "execution_count": 72,
   "metadata": {},
   "outputs": [
    {
     "name": "stdout",
     "output_type": "stream",
     "text": [
      "---\n",
      "1\n",
      "562\n",
      "Len of test set, without anomalies 7500\n",
      "Len of test set, with anomalies 8062\n",
      "Size of set of anomalies + test 8062\n",
      "../Data/data_2/test_x_1.pkl\n",
      " Set vs list  of test ids ::  8062 8062\n",
      "train_x.pkl\n",
      "---\n",
      "2\n",
      "562\n",
      "Len of test set, without anomalies 7500\n",
      "Len of test set, with anomalies 8062\n",
      "Size of set of anomalies + test 8062\n",
      "../Data/data_2/test_x_2.pkl\n",
      " Set vs list  of test ids ::  8062 8062\n",
      "---\n",
      "3\n",
      "562\n",
      "Len of test set, without anomalies 7500\n",
      "Len of test set, with anomalies 8062\n",
      "Size of set of anomalies + test 8062\n",
      "../Data/data_2/test_x_3.pkl\n",
      " Set vs list  of test ids ::  8062 8062\n",
      "---\n",
      "4\n",
      "562\n",
      "Len of test set, without anomalies 7500\n",
      "Len of test set, with anomalies 8062\n",
      "Size of set of anomalies + test 8062\n",
      "../Data/data_2/test_x_4.pkl\n",
      " Set vs list  of test ids ::  8062 8062\n",
      "---\n",
      "5\n",
      "562\n",
      "Len of test set, without anomalies 7500\n",
      "Len of test set, with anomalies 8062\n",
      "Size of set of anomalies + test 8062\n",
      "../Data/data_2/test_x_5.pkl\n",
      " Set vs list  of test ids ::  8062 8062\n"
     ]
    }
   ],
   "source": [
    "for i in range(num_CV):\n",
    "    idx = i+1\n",
    "    print('---')\n",
    "    print(idx)\n",
    "    \n",
    "#     _df_1 = pd.DataFrame(df,copy=True)\n",
    "#     training_data, test_normal_df = train_test_split(_df_1, test_size=test_fac)\n",
    "#     print(len(training_data),len(test_normal_df))\n",
    "    \n",
    "    num_anom = int(anomaly_frac*(len(test_normal_df)))\n",
    "    print(num_anom)\n",
    "    \n",
    "    _df = pd.DataFrame(\n",
    "        test_normal_df,\n",
    "        copy=True\n",
    "    )\n",
    "    print('Len of test set, without anomalies', len(_df))\n",
    "    \n",
    "    tmp = all_anomalies_df.sample(num_anom)\n",
    "    _df = _df.append(tmp, ignore_index=True)\n",
    "    print('Len of test set, with anomalies', len(_df) )\n",
    "    \n",
    "    test_all_ids = list(_df['id'])\n",
    "    \n",
    "    # ids of anomaly cases\n",
    "    test_anomaly_ids = tmp['id']\n",
    "    print('Size of set of anomalies + test', len(set(test_all_ids)))\n",
    "    \n",
    "    try:\n",
    "        del _df['tag']\n",
    "        del _df['id']\n",
    "    except:\n",
    "        pass\n",
    "    \n",
    "    test_x_data = _df.values\n",
    "    test_x_file = 'test_x_' + str(idx) + '.pkl'\n",
    "    test_x_file_path = os.path.join(save_dir,test_x_file)\n",
    "    print(test_x_file_path)\n",
    "    \n",
    "    with open(test_x_file_path, 'wb') as fh:\n",
    "        _td = [test_anomaly_ids, test_all_ids, test_x_data ]\n",
    "        pickle.dump(\n",
    "            _td, \n",
    "            fh, \n",
    "            pickle.HIGHEST_PROTOCOL\n",
    "        )\n",
    "    \n",
    "    print(' Set vs list  of test ids :: ', len(set(test_all_ids)), len(test_all_ids) )\n",
    "#     z_tmp = list(train_x_id)\n",
    "#     z_tmp.extend(test_all_ids)\n",
    "#     print(' >>> ', len(set(z_tmp)))\n",
    "        \n",
    "    if i == 0:\n",
    "        \n",
    "        try:\n",
    "            del training_data['id']\n",
    "            del training_data['tag']\n",
    "        except:\n",
    "            pass\n",
    "        \n",
    "        # Save the data\n",
    "        train_x_data = training_data.values\n",
    "        train_x_file_path = os.path.join(\n",
    "            save_dir,\n",
    "            train_x_file\n",
    "        )\n",
    "        print(train_x_file)\n",
    "        with open(train_x_file_path, 'wb') as fh:\n",
    "            pickle.dump(\n",
    "                train_x_data, \n",
    "                fh, \n",
    "                pickle.HIGHEST_PROTOCOL\n",
    "            )\n",
    "        train_x_id_file = 'train_x_id.pkl'\n",
    "        train_x_id_file_path = os.path.join(save_dir,train_x_id_file)\n",
    "        with open(train_x_id_file_path, 'wb') as fh:\n",
    "            pickle.dump(\n",
    "                train_x_id, \n",
    "                fh, \n",
    "                pickle.HIGHEST_PROTOCOL\n",
    "            )    \n",
    "        "
   ]
  },
  {
   "cell_type": "markdown",
   "metadata": {},
   "source": [
    "# ------------------------------------------------------- #"
   ]
  },
  {
   "cell_type": "code",
   "execution_count": 250,
   "metadata": {},
   "outputs": [],
   "source": [
    "attr_entropy_x = [str(_) for _ in attr_entropy.keys()]\n",
    "attr_entropy_y = [_ for _ in attr_entropy.values()]"
   ]
  },
  {
   "cell_type": "code",
   "execution_count": 251,
   "metadata": {},
   "outputs": [
    {
     "data": {
      "text/plain": [
       "['0', '1', '2', '3', '4', '5', '6', '7', '8', '9', 'soil_type', 'wa']"
      ]
     },
     "execution_count": 251,
     "metadata": {},
     "output_type": "execute_result"
    }
   ],
   "source": [
    "attr_entropy_x"
   ]
  },
  {
   "cell_type": "code",
   "execution_count": 252,
   "metadata": {},
   "outputs": [
    {
     "data": {
      "image/png": "[encoded data removed]",
      "text/plain": [
       "<Figure size 1008x432 with 1 Axes>"
      ]
     },
     "metadata": {},
     "output_type": "display_data"
    }
   ],
   "source": [
    "plt.figure(figsize=[14,6])\n",
    "sns.set(style=\"whitegrid\")\n",
    "sns.barplot(x=attr_entropy_x, y=attr_entropy_y)\n",
    "plt.xlabel('Attribute')\n",
    "plt.ylabel('Entropy')\n",
    "plt.title('Entropy distribution of the attributes')\n",
    "plt.show()"
   ]
  },
  {
   "cell_type": "code",
   "execution_count": 253,
   "metadata": {},
   "outputs": [],
   "source": [
    "def get_domain_arity(df,attr_list):\n",
    "    try:\n",
    "        attr_list.remove(tag)\n",
    "    except:\n",
    "        pass\n",
    "    domain_arity = {a: len(set(df[a])) for a in attr_list}\n",
    "    return domain_arity"
   ]
  },
  {
   "cell_type": "code",
   "execution_count": 254,
   "metadata": {},
   "outputs": [],
   "source": [
    "domain_arity = get_domain_arity(df_new_1,attr_list)\n",
    "del domain_arity['tag']"
   ]
  },
  {
   "cell_type": "code",
   "execution_count": 255,
   "metadata": {},
   "outputs": [],
   "source": [
    "arity_x = [str(_) for _ in domain_arity.keys()]\n",
    "arity_y = [_ for _ in domain_arity.values()]\n"
   ]
  },
  {
   "cell_type": "code",
   "execution_count": 256,
   "metadata": {},
   "outputs": [
    {
     "data": {
      "image/png": "[encoded data removed]",
      "text/plain": [
       "<Figure size 1008x432 with 1 Axes>"
      ]
     },
     "metadata": {},
     "output_type": "display_data"
    }
   ],
   "source": [
    "\n",
    "plt.figure(figsize=[14,6])\n",
    "sns.set(style=\"whitegrid\")\n",
    "sns.barplot(x=arity_x, y=arity_y)\n",
    "plt.xlabel('Attribute')\n",
    "plt.ylabel('Arity(Cardinality)')\n",
    "plt.title('Arity distribution of the attributes')\n",
    "plt.show() "
   ]
  },
  {
   "cell_type": "code",
   "execution_count": null,
   "metadata": {},
   "outputs": [],
   "source": []
  },
  {
   "cell_type": "markdown",
   "metadata": {},
   "source": [
    "# --------------------------------------------------------------------"
   ]
  },
  {
   "cell_type": "code",
   "execution_count": 43,
   "metadata": {},
   "outputs": [],
   "source": [
    "\n",
    "\n",
    "data_df = df[(df['tag']==normal_class)] \n",
    "anom = df[(df['tag'].isin(anomaly_class)].sample(int(len(data_df)*0.04))\n",
    "data_df = data_df.append(anom)"
   ]
  },
  {
   "cell_type": "code",
   "execution_count": null,
   "metadata": {},
   "outputs": [],
   "source": []
  },
  {
   "cell_type": "code",
   "execution_count": 8,
   "metadata": {},
   "outputs": [
    {
     "data": {
      "text/plain": [
       "26000"
      ]
     },
     "execution_count": 8,
     "metadata": {},
     "output_type": "execute_result"
    }
   ],
   "source": [
    "len(data_df)"
   ]
  },
  {
   "cell_type": "code",
   "execution_count": 9,
   "metadata": {},
   "outputs": [
    {
     "name": "stdout",
     "output_type": "stream",
     "text": [
      "Percentage of Anomalies : 3.8461538461538463\n"
     ]
    }
   ],
   "source": [
    "l1 = len(data_df[data_df['tag']==normal_class])\n",
    "l2 = len(data_df)\n",
    "l1 = l2-l1\n",
    "print('Percentage of Anomalies :',  (l1/l2)*100 )"
   ]
  },
  {
   "cell_type": "code",
   "execution_count": 10,
   "metadata": {},
   "outputs": [],
   "source": [
    "# add in id\n",
    "new_col = list(range(1,len(data_df)+1))\n",
    "data_df.insert(loc=0, column='id', value=new_col)"
   ]
  },
  {
   "cell_type": "markdown",
   "metadata": {},
   "source": [
    "### Exploring the attributes\n"
   ]
  },
  {
   "cell_type": "code",
   "execution_count": 11,
   "metadata": {},
   "outputs": [],
   "source": [
    "def entropy_calc(labels):\n",
    "    n_labels = len(labels)\n",
    "    if n_labels <= 1:\n",
    "        return 0\n",
    "\n",
    "    value,counts = np.unique(labels, return_counts=True)\n",
    "    probs = counts / n_labels\n",
    "    n_classes = np.count_nonzero(probs)\n",
    "\n",
    "    if n_classes <= 1:\n",
    "        return 0\n",
    "\n",
    "    ent = 0.\n",
    "    base = math.e \n",
    "    for i in probs:\n",
    "        ent -= i * log(i, base)\n",
    "    k = len(value)\n",
    "    ent = ent/log(k,base)\n",
    "    return ent"
   ]
  },
  {
   "cell_type": "code",
   "execution_count": 12,
   "metadata": {},
   "outputs": [],
   "source": [
    "def get_entropies(df):\n",
    "    # ignore 1st and last columns\n",
    "    num_cols = len(df.columns)\n",
    "    res = {}\n",
    "    for i in range(1,num_cols-2):\n",
    "        e = entropy_calc(list(df[i]))\n",
    "        print(i,e)\n",
    "        res[i] = e\n",
    "    return res"
   ]
  },
  {
   "cell_type": "code",
   "execution_count": 13,
   "metadata": {},
   "outputs": [
    {
     "name": "stdout",
     "output_type": "stream",
     "text": [
      "1 0.9764318066342891\n",
      "2 0.8373090736436817\n",
      "3 0.7994998473774113\n",
      "4 0.8133944743221604\n",
      "5 0.9598079380566528\n",
      "6 0.8770565182026996\n",
      "7 0.8582591642483927\n",
      "8 0.9113486488160762\n",
      "9 0.9408376659796021\n",
      "10 0.9998766417897046\n",
      "11 0.42297549123463085\n",
      "12 0.9777356620387453\n",
      "13 0.06828928328809253\n",
      "14 0.00662370995677137\n",
      "15 0.015872215234077232\n",
      "16 0.0291415209663476\n",
      "17 0.027190816190378067\n",
      "18 0.001162220273384513\n",
      "19 0.009856741976947624\n",
      "20 0\n",
      "21 0.004478796109459097\n",
      "22 0.008667262346201701\n",
      "23 0.06181658135864357\n",
      "24 0.04658616033034627\n",
      "25 0.09230617098762421\n",
      "26 0.10271485440477879\n",
      "27 0.003581138048722643\n",
      "28 0\n",
      "29 0.03515553164983692\n",
      "30 0.044826397303541723\n",
      "31 0.008667262346201701\n",
      "32 0.08459396164489305\n",
      "33 0.12582047166305507\n",
      "34 0.03884274422633769\n",
      "35 0.528365037565347\n",
      "36 0.6456880148356883\n",
      "37 0.2855794856731306\n",
      "38 0.009462938291540563\n",
      "39 0.0180201424511988\n",
      "40 0.026863017440049042\n",
      "41 0.002651317734468217\n",
      "42 0.7041990496053215\n",
      "43 0.2473830208198693\n",
      "44 0.31088696308984537\n",
      "45 0.45916539401413164\n",
      "46 0.41092741294400464\n",
      "47 0.007859874447626222\n",
      "48 0.03546585506679684\n",
      "49 0.0006195727422769693\n",
      "50 0\n",
      "51 0.2417629046195499\n",
      "52 0.23196900145417232\n",
      "53 0.15062835474932473\n"
     ]
    }
   ],
   "source": [
    "attr_entropy = get_entropies(data_df)\n"
   ]
  },
  {
   "cell_type": "code",
   "execution_count": 14,
   "metadata": {},
   "outputs": [
    {
     "data": {
      "image/png": "[encoded data removed]",
      "text/plain": [
       "<Figure size 1008x432 with 1 Axes>"
      ]
     },
     "metadata": {
      "needs_background": "light"
     },
     "output_type": "display_data"
    }
   ],
   "source": [
    "plt.figure(figsize=[14,6])\n",
    "sns.set(style=\"whitegrid\")\n",
    "sns.barplot(x=list(attr_entropy.keys()), y=list(attr_entropy.values()))\n",
    "plt.xlabel('Attribute')\n",
    "plt.ylabel('Entropy')\n",
    "plt.title('Entropy distribution of the attributes')\n",
    "plt.show()"
   ]
  },
  {
   "cell_type": "markdown",
   "metadata": {},
   "source": [
    "## Filter attributes by threshold\n",
    "### lb =0.05\n",
    "### ub =0.95\n"
   ]
  },
  {
   "cell_type": "code",
   "execution_count": 15,
   "metadata": {},
   "outputs": [],
   "source": [
    "\n",
    "lb = 0.01\n",
    "ub = 0.99\n",
    "attr_list = []\n",
    "for k,v in attr_entropy.items():\n",
    "    if v >= lb and v<= ub:\n",
    "        attr_list.append(k)\n",
    "        "
   ]
  },
  {
   "cell_type": "code",
   "execution_count": 16,
   "metadata": {},
   "outputs": [
    {
     "data": {
      "text/plain": [
       "38"
      ]
     },
     "execution_count": 16,
     "metadata": {},
     "output_type": "execute_result"
    }
   ],
   "source": [
    "len(attr_list)"
   ]
  },
  {
   "cell_type": "code",
   "execution_count": 17,
   "metadata": {},
   "outputs": [],
   "source": [
    "valid_attr = ['id']\n",
    "valid_attr.extend(attr_list)\n",
    "valid_attr.append('tag')\n",
    "data_df = data_df[valid_attr]"
   ]
  },
  {
   "cell_type": "markdown",
   "metadata": {},
   "source": [
    "## Explore Arity of the domains"
   ]
  },
  {
   "cell_type": "code",
   "execution_count": 18,
   "metadata": {},
   "outputs": [],
   "source": [
    "def get_domain_arity(df,attr_list):\n",
    "    domain_arity = {a: len(set(df[a])) for a in attr_list}\n",
    "    return domain_arity"
   ]
  },
  {
   "cell_type": "code",
   "execution_count": 19,
   "metadata": {},
   "outputs": [
    {
     "data": {
      "image/png": "[encoded data removed]",
      "text/plain": [
       "<Figure size 1008x432 with 1 Axes>"
      ]
     },
     "metadata": {},
     "output_type": "display_data"
    }
   ],
   "source": [
    "domain_arity = get_domain_arity(data_df,attr_list)\n",
    "plt.figure(figsize=[14,6])\n",
    "sns.set(style=\"whitegrid\")\n",
    "sns.barplot(x=list(domain_arity.keys()), y=list(domain_arity.values()))\n",
    "plt.xlabel('Attribute')\n",
    "plt.ylabel('Arity(Cardinality)')\n",
    "plt.title('Arity distribution of the attributes')\n",
    "plt.show()  "
   ]
  },
  {
   "cell_type": "code",
   "execution_count": 20,
   "metadata": {},
   "outputs": [
    {
     "data": {
      "text/plain": [
       "{1: 361,\n",
       " 2: 51,\n",
       " 3: 381,\n",
       " 4: 476,\n",
       " 5: 4637,\n",
       " 6: 173,\n",
       " 7: 140,\n",
       " 8: 243,\n",
       " 9: 3891,\n",
       " 11: 2,\n",
       " 12: 2,\n",
       " 13: 2,\n",
       " 15: 2,\n",
       " 16: 2,\n",
       " 17: 2,\n",
       " 23: 2,\n",
       " 24: 2,\n",
       " 25: 2,\n",
       " 26: 2,\n",
       " 29: 2,\n",
       " 30: 2,\n",
       " 32: 2,\n",
       " 33: 2,\n",
       " 34: 2,\n",
       " 35: 2,\n",
       " 36: 2,\n",
       " 37: 2,\n",
       " 39: 2,\n",
       " 40: 2,\n",
       " 42: 2,\n",
       " 43: 2,\n",
       " 44: 2,\n",
       " 45: 2,\n",
       " 46: 2,\n",
       " 48: 2,\n",
       " 51: 2,\n",
       " 52: 2,\n",
       " 53: 2}"
      ]
     },
     "execution_count": 20,
     "metadata": {},
     "output_type": "execute_result"
    }
   ],
   "source": [
    "domain_arity"
   ]
  },
  {
   "cell_type": "code",
   "execution_count": 33,
   "metadata": {},
   "outputs": [],
   "source": [
    "\n",
    "# Save the data ina numpy array\n",
    "_tmp = data_df[data_df['tag'] == normal_class]\n",
    "_normal = list(_tmp['id'])\n",
    "\n",
    "\n",
    "_tmp = data_df[(data_df['tag'] == anomaly_class_1) | (data_df['tag'] == anomaly_class_2)]\n",
    "_anomaly =  list(_tmp['id'])\n",
    "\n"
   ]
  },
  {
   "cell_type": "code",
   "execution_count": 34,
   "metadata": {},
   "outputs": [],
   "source": [
    "def replace_attr_with_id(row, attr, val2id_dict):\n",
    "    val = row[attr]\n",
    "    if val not in val2id_dict.keys():\n",
    "        print(attr,val)\n",
    "        return None\n",
    "    else:\n",
    "        return val2id_dict[val]\n",
    "\n",
    "\n",
    "def convert_to_ids(df, cols , save_dir):\n",
    "    domain_dims_dict = {}\n",
    "\n",
    "    for col in cols:\n",
    "\n",
    "        vals = list(set(df[col]))\n",
    "        id2val_dict = {e[0]: e[1] for e in enumerate(vals, 0)}\n",
    "\n",
    "        file_name = str(col) +'_id2val.pkl'\n",
    "        with open( os.path.join(save_dir,file_name), 'wb') as f:\n",
    "            pickle.dump(id2val_dict, f, pickle.HIGHEST_PROTOCOL)\n",
    "\n",
    "        val2id_dict = {v: k for k, v in id2val_dict.items()}\n",
    "        # replace\n",
    "        df[col] = df.apply(\n",
    "            replace_attr_with_id,\n",
    "            axis=1,\n",
    "            args=(\n",
    "                col,\n",
    "                val2id_dict,\n",
    "            )\n",
    "        )\n",
    "        domain_dims_dict[col] = len(id2val_dict)\n",
    "\n",
    "    domain_dims = []\n",
    "    domain_dims_res = {}\n",
    "\n",
    "    for col in list(df.columns):\n",
    "        if col in domain_dims_dict.keys():\n",
    "            print(col)\n",
    "            domain_dims_res[col] = domain_dims_dict[col]\n",
    "            domain_dims.append(domain_dims_dict[col])\n",
    "\n",
    "    domain_dims =  np.array(domain_dims)\n",
    "    file = 'domain_dims.pkl'\n",
    "    f_path = os.path.join(save_dir, file)\n",
    "\n",
    "    with open(f_path,'wb') as fh:\n",
    "        pickle.dump(\n",
    "            domain_dims_res,\n",
    "            fh,\n",
    "            pickle.HIGHEST_PROTOCOL\n",
    "        )\n",
    "    return df"
   ]
  },
  {
   "cell_type": "code",
   "execution_count": 35,
   "metadata": {},
   "outputs": [],
   "source": [
    "all_ids = list(data_df['id'])\n",
    "record_id_dict ={\n",
    "    'all':all_ids,\n",
    "    'normal':_normal,\n",
    "    'anomaly':_anomaly\n",
    "}"
   ]
  },
  {
   "cell_type": "code",
   "execution_count": 36,
   "metadata": {},
   "outputs": [
    {
     "name": "stdout",
     "output_type": "stream",
     "text": [
      "1\n",
      "2\n",
      "3\n",
      "4\n",
      "5\n",
      "6\n",
      "7\n",
      "8\n",
      "9\n",
      "11\n",
      "12\n",
      "13\n",
      "15\n",
      "16\n",
      "17\n",
      "23\n",
      "24\n",
      "25\n",
      "26\n",
      "29\n",
      "30\n",
      "32\n",
      "33\n",
      "34\n",
      "35\n",
      "36\n",
      "37\n",
      "39\n",
      "40\n",
      "42\n",
      "43\n",
      "44\n",
      "45\n",
      "46\n",
      "48\n",
      "51\n",
      "52\n",
      "53\n"
     ]
    }
   ],
   "source": [
    "save_dir = '../Data/data_2'\n",
    "\n",
    "data_df_1 = pd.DataFrame(data_df,copy=True)\n",
    "try:\n",
    "    del data_df_1['id']\n",
    "    del data_df_1['tag']\n",
    "except:\n",
    "    pass\n",
    "\n",
    "# convert all values to int\n",
    "for c in list(data_df_1.columns):\n",
    "    data_df_1[c] = data_df_1[c].astype(int)  \n",
    "cols = list(data_df_1.columns)\n",
    "convert_to_ids(data_df_1, cols , save_dir)\n",
    "data_x = data_df_1.values\n",
    "    "
   ]
  },
  {
   "cell_type": "code",
   "execution_count": 37,
   "metadata": {},
   "outputs": [],
   "source": [
    "OP_PATH = '../Data/data_2'\n",
    "data_x_file = 'data_2_x.pkl'\n",
    "record_file = 'data_2_idList.pkl'\n",
    "\n",
    "f_path_1 = os.path.join(OP_PATH,data_x_file)\n",
    "f_path_2 = os.path.join(OP_PATH,record_file)\n",
    "\n",
    "with open(f_path_1,'wb') as fh :\n",
    "    pickle.dump(data_x, fh,pickle.HIGHEST_PROTOCOL)\n",
    "    \n",
    "with open(f_path_2,'wb') as fh :\n",
    "    pickle.dump(record_id_dict, fh,pickle.HIGHEST_PROTOCOL)\n",
    "    "
   ]
  },
  {
   "cell_type": "code",
   "execution_count": 111,
   "metadata": {},
   "outputs": [
    {
     "data": {
      "text/plain": [
       "numpy.ndarray"
      ]
     },
     "execution_count": 111,
     "metadata": {},
     "output_type": "execute_result"
    }
   ],
   "source": []
  },
  {
   "cell_type": "code",
   "execution_count": null,
   "metadata": {},
   "outputs": [],
   "source": []
  }
 ],
 "metadata": {
  "kernelspec": {
   "display_name": "Python 3",
   "language": "python",
   "name": "python3"
  },
  "language_info": {
   "codemirror_mode": {
    "name": "ipython",
    "version": 3
   },
   "file_extension": ".py",
   "mimetype": "text/x-python",
   "name": "python",
   "nbconvert_exporter": "python",
   "pygments_lexer": "ipython3",
   "version": "3.6.7"
  }
 },
 "nbformat": 4,
 "nbformat_minor": 2
}
