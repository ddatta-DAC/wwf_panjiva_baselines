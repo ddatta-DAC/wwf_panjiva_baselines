{
 "cells": [
  {
   "cell_type": "code",
   "execution_count": 82,
   "metadata": {},
   "outputs": [],
   "source": [
    "from numpy import genfromtxt\n",
    "import numpy as np\n",
    "import matplotlib.pyplot as plt\n",
    "import seaborn as sns\n",
    "import pandas as pd\n",
    "from scipy.stats import entropy\n",
    "from math import log, e\n",
    "import math\n",
    "from sklearn.utils import shuffle\n",
    "import os\n",
    "import pickle"
   ]
  },
  {
   "cell_type": "code",
   "execution_count": 57,
   "metadata": {},
   "outputs": [],
   "source": [
    "df = pd.read_csv('../Data/data_1/connect-4.data',header=None)"
   ]
  },
  {
   "cell_type": "code",
   "execution_count": 58,
   "metadata": {},
   "outputs": [
    {
     "data": {
      "text/html": [
       "<div>\n",
       "<style scoped>\n",
       "    .dataframe tbody tr th:only-of-type {\n",
       "        vertical-align: middle;\n",
       "    }\n",
       "\n",
       "    .dataframe tbody tr th {\n",
       "        vertical-align: top;\n",
       "    }\n",
       "\n",
       "    .dataframe thead th {\n",
       "        text-align: right;\n",
       "    }\n",
       "</style>\n",
       "<table border=\"1\" class=\"dataframe\">\n",
       "  <thead>\n",
       "    <tr style=\"text-align: right;\">\n",
       "      <th></th>\n",
       "      <th>0</th>\n",
       "      <th>1</th>\n",
       "      <th>2</th>\n",
       "      <th>3</th>\n",
       "      <th>4</th>\n",
       "      <th>5</th>\n",
       "      <th>6</th>\n",
       "      <th>7</th>\n",
       "      <th>8</th>\n",
       "      <th>9</th>\n",
       "      <th>...</th>\n",
       "      <th>33</th>\n",
       "      <th>34</th>\n",
       "      <th>35</th>\n",
       "      <th>36</th>\n",
       "      <th>37</th>\n",
       "      <th>38</th>\n",
       "      <th>39</th>\n",
       "      <th>40</th>\n",
       "      <th>41</th>\n",
       "      <th>42</th>\n",
       "    </tr>\n",
       "  </thead>\n",
       "  <tbody>\n",
       "    <tr>\n",
       "      <th>0</th>\n",
       "      <td>b</td>\n",
       "      <td>b</td>\n",
       "      <td>b</td>\n",
       "      <td>b</td>\n",
       "      <td>b</td>\n",
       "      <td>b</td>\n",
       "      <td>b</td>\n",
       "      <td>b</td>\n",
       "      <td>b</td>\n",
       "      <td>b</td>\n",
       "      <td>...</td>\n",
       "      <td>b</td>\n",
       "      <td>b</td>\n",
       "      <td>b</td>\n",
       "      <td>b</td>\n",
       "      <td>b</td>\n",
       "      <td>b</td>\n",
       "      <td>b</td>\n",
       "      <td>b</td>\n",
       "      <td>b</td>\n",
       "      <td>win</td>\n",
       "    </tr>\n",
       "    <tr>\n",
       "      <th>1</th>\n",
       "      <td>b</td>\n",
       "      <td>b</td>\n",
       "      <td>b</td>\n",
       "      <td>b</td>\n",
       "      <td>b</td>\n",
       "      <td>b</td>\n",
       "      <td>b</td>\n",
       "      <td>b</td>\n",
       "      <td>b</td>\n",
       "      <td>b</td>\n",
       "      <td>...</td>\n",
       "      <td>b</td>\n",
       "      <td>b</td>\n",
       "      <td>b</td>\n",
       "      <td>b</td>\n",
       "      <td>b</td>\n",
       "      <td>b</td>\n",
       "      <td>b</td>\n",
       "      <td>b</td>\n",
       "      <td>b</td>\n",
       "      <td>win</td>\n",
       "    </tr>\n",
       "    <tr>\n",
       "      <th>2</th>\n",
       "      <td>b</td>\n",
       "      <td>b</td>\n",
       "      <td>b</td>\n",
       "      <td>b</td>\n",
       "      <td>b</td>\n",
       "      <td>b</td>\n",
       "      <td>o</td>\n",
       "      <td>b</td>\n",
       "      <td>b</td>\n",
       "      <td>b</td>\n",
       "      <td>...</td>\n",
       "      <td>b</td>\n",
       "      <td>b</td>\n",
       "      <td>b</td>\n",
       "      <td>b</td>\n",
       "      <td>b</td>\n",
       "      <td>b</td>\n",
       "      <td>b</td>\n",
       "      <td>b</td>\n",
       "      <td>b</td>\n",
       "      <td>win</td>\n",
       "    </tr>\n",
       "    <tr>\n",
       "      <th>3</th>\n",
       "      <td>b</td>\n",
       "      <td>b</td>\n",
       "      <td>b</td>\n",
       "      <td>b</td>\n",
       "      <td>b</td>\n",
       "      <td>b</td>\n",
       "      <td>b</td>\n",
       "      <td>b</td>\n",
       "      <td>b</td>\n",
       "      <td>b</td>\n",
       "      <td>...</td>\n",
       "      <td>b</td>\n",
       "      <td>b</td>\n",
       "      <td>b</td>\n",
       "      <td>b</td>\n",
       "      <td>b</td>\n",
       "      <td>b</td>\n",
       "      <td>b</td>\n",
       "      <td>b</td>\n",
       "      <td>b</td>\n",
       "      <td>win</td>\n",
       "    </tr>\n",
       "    <tr>\n",
       "      <th>4</th>\n",
       "      <td>o</td>\n",
       "      <td>b</td>\n",
       "      <td>b</td>\n",
       "      <td>b</td>\n",
       "      <td>b</td>\n",
       "      <td>b</td>\n",
       "      <td>b</td>\n",
       "      <td>b</td>\n",
       "      <td>b</td>\n",
       "      <td>b</td>\n",
       "      <td>...</td>\n",
       "      <td>b</td>\n",
       "      <td>b</td>\n",
       "      <td>b</td>\n",
       "      <td>b</td>\n",
       "      <td>b</td>\n",
       "      <td>b</td>\n",
       "      <td>b</td>\n",
       "      <td>b</td>\n",
       "      <td>b</td>\n",
       "      <td>win</td>\n",
       "    </tr>\n",
       "    <tr>\n",
       "      <th>5</th>\n",
       "      <td>b</td>\n",
       "      <td>b</td>\n",
       "      <td>b</td>\n",
       "      <td>b</td>\n",
       "      <td>b</td>\n",
       "      <td>b</td>\n",
       "      <td>b</td>\n",
       "      <td>b</td>\n",
       "      <td>b</td>\n",
       "      <td>b</td>\n",
       "      <td>...</td>\n",
       "      <td>b</td>\n",
       "      <td>b</td>\n",
       "      <td>b</td>\n",
       "      <td>o</td>\n",
       "      <td>b</td>\n",
       "      <td>b</td>\n",
       "      <td>b</td>\n",
       "      <td>b</td>\n",
       "      <td>b</td>\n",
       "      <td>win</td>\n",
       "    </tr>\n",
       "    <tr>\n",
       "      <th>6</th>\n",
       "      <td>b</td>\n",
       "      <td>b</td>\n",
       "      <td>b</td>\n",
       "      <td>b</td>\n",
       "      <td>b</td>\n",
       "      <td>b</td>\n",
       "      <td>x</td>\n",
       "      <td>b</td>\n",
       "      <td>b</td>\n",
       "      <td>b</td>\n",
       "      <td>...</td>\n",
       "      <td>b</td>\n",
       "      <td>b</td>\n",
       "      <td>b</td>\n",
       "      <td>b</td>\n",
       "      <td>b</td>\n",
       "      <td>b</td>\n",
       "      <td>b</td>\n",
       "      <td>b</td>\n",
       "      <td>b</td>\n",
       "      <td>draw</td>\n",
       "    </tr>\n",
       "    <tr>\n",
       "      <th>7</th>\n",
       "      <td>b</td>\n",
       "      <td>b</td>\n",
       "      <td>b</td>\n",
       "      <td>b</td>\n",
       "      <td>b</td>\n",
       "      <td>b</td>\n",
       "      <td>x</td>\n",
       "      <td>b</td>\n",
       "      <td>b</td>\n",
       "      <td>b</td>\n",
       "      <td>...</td>\n",
       "      <td>b</td>\n",
       "      <td>b</td>\n",
       "      <td>b</td>\n",
       "      <td>b</td>\n",
       "      <td>b</td>\n",
       "      <td>b</td>\n",
       "      <td>b</td>\n",
       "      <td>b</td>\n",
       "      <td>b</td>\n",
       "      <td>win</td>\n",
       "    </tr>\n",
       "    <tr>\n",
       "      <th>8</th>\n",
       "      <td>b</td>\n",
       "      <td>b</td>\n",
       "      <td>b</td>\n",
       "      <td>b</td>\n",
       "      <td>b</td>\n",
       "      <td>b</td>\n",
       "      <td>x</td>\n",
       "      <td>o</td>\n",
       "      <td>b</td>\n",
       "      <td>b</td>\n",
       "      <td>...</td>\n",
       "      <td>b</td>\n",
       "      <td>b</td>\n",
       "      <td>b</td>\n",
       "      <td>b</td>\n",
       "      <td>b</td>\n",
       "      <td>b</td>\n",
       "      <td>b</td>\n",
       "      <td>b</td>\n",
       "      <td>b</td>\n",
       "      <td>win</td>\n",
       "    </tr>\n",
       "    <tr>\n",
       "      <th>9</th>\n",
       "      <td>b</td>\n",
       "      <td>b</td>\n",
       "      <td>b</td>\n",
       "      <td>b</td>\n",
       "      <td>b</td>\n",
       "      <td>b</td>\n",
       "      <td>x</td>\n",
       "      <td>b</td>\n",
       "      <td>b</td>\n",
       "      <td>b</td>\n",
       "      <td>...</td>\n",
       "      <td>b</td>\n",
       "      <td>b</td>\n",
       "      <td>b</td>\n",
       "      <td>b</td>\n",
       "      <td>b</td>\n",
       "      <td>b</td>\n",
       "      <td>b</td>\n",
       "      <td>b</td>\n",
       "      <td>b</td>\n",
       "      <td>win</td>\n",
       "    </tr>\n",
       "  </tbody>\n",
       "</table>\n",
       "<p>10 rows × 43 columns</p>\n",
       "</div>"
      ],
      "text/plain": [
       "  0  1  2  3  4  5  6  7  8  9   ... 33 34 35 36 37 38 39 40 41    42\n",
       "0  b  b  b  b  b  b  b  b  b  b  ...  b  b  b  b  b  b  b  b  b   win\n",
       "1  b  b  b  b  b  b  b  b  b  b  ...  b  b  b  b  b  b  b  b  b   win\n",
       "2  b  b  b  b  b  b  o  b  b  b  ...  b  b  b  b  b  b  b  b  b   win\n",
       "3  b  b  b  b  b  b  b  b  b  b  ...  b  b  b  b  b  b  b  b  b   win\n",
       "4  o  b  b  b  b  b  b  b  b  b  ...  b  b  b  b  b  b  b  b  b   win\n",
       "5  b  b  b  b  b  b  b  b  b  b  ...  b  b  b  o  b  b  b  b  b   win\n",
       "6  b  b  b  b  b  b  x  b  b  b  ...  b  b  b  b  b  b  b  b  b  draw\n",
       "7  b  b  b  b  b  b  x  b  b  b  ...  b  b  b  b  b  b  b  b  b   win\n",
       "8  b  b  b  b  b  b  x  o  b  b  ...  b  b  b  b  b  b  b  b  b   win\n",
       "9  b  b  b  b  b  b  x  b  b  b  ...  b  b  b  b  b  b  b  b  b   win\n",
       "\n",
       "[10 rows x 43 columns]"
      ]
     },
     "execution_count": 58,
     "metadata": {},
     "output_type": "execute_result"
    }
   ],
   "source": [
    "df.head(10)"
   ]
  },
  {
   "cell_type": "code",
   "execution_count": 59,
   "metadata": {},
   "outputs": [],
   "source": [
    "df = df.rename(columns = {42:'tag'})"
   ]
  },
  {
   "cell_type": "code",
   "execution_count": 60,
   "metadata": {},
   "outputs": [
    {
     "name": "stdout",
     "output_type": "stream",
     "text": [
      "Class : draw | count : 6449\n",
      "Class : win | count : 44473\n",
      "Class : loss | count : 16635\n"
     ]
    }
   ],
   "source": [
    "for i in set(df['tag']) :\n",
    "    _list = list(df['tag'])\n",
    "    c = _list.count(i)\n",
    "    print('Class :', i,'| count :',c )"
   ]
  },
  {
   "cell_type": "code",
   "execution_count": 61,
   "metadata": {},
   "outputs": [],
   "source": [
    "# there are 3 classes \n",
    "# taking the majority class as normal \n",
    "# Take samples from minority class 'draw' the class(es) with minimum number of points as anomalous\n",
    "# this assumption has been done in CompreX\n",
    "\n",
    "normal_class = 'win'\n",
    "anomaly_class_1 = 'draw'\n",
    "anomaly_class_2 = 'loss'\n",
    "num_samples_anomaly = int(min(len(df[df['tag']==anomaly_class_1]) + len(df[df['tag']==anomaly_class_2]) , 0.05*len(df[df['tag']==normal_class])))"
   ]
  },
  {
   "cell_type": "markdown",
   "metadata": {},
   "source": [
    "## Add in id\n"
   ]
  },
  {
   "cell_type": "code",
   "execution_count": 62,
   "metadata": {},
   "outputs": [],
   "source": [
    "# add in id\n",
    "new_col = list(range(1,len(df)+1))\n",
    "df.insert(\n",
    "    loc=0, \n",
    "    column='id', \n",
    "    value=new_col\n",
    ")"
   ]
  },
  {
   "cell_type": "code",
   "execution_count": 63,
   "metadata": {},
   "outputs": [],
   "source": [
    "normal = df[df['tag']==normal_class]\n",
    "anomaly = df[(df['tag']==anomaly_class_1) | (df['tag']==anomaly_class_2)].sample(num_samples_anomaly)\n"
   ]
  },
  {
   "cell_type": "code",
   "execution_count": 64,
   "metadata": {},
   "outputs": [
    {
     "data": {
      "text/plain": [
       "44473"
      ]
     },
     "execution_count": 64,
     "metadata": {},
     "output_type": "execute_result"
    }
   ],
   "source": [
    "len(normal)"
   ]
  },
  {
   "cell_type": "code",
   "execution_count": 65,
   "metadata": {},
   "outputs": [
    {
     "data": {
      "text/plain": [
       "2223"
      ]
     },
     "execution_count": 65,
     "metadata": {},
     "output_type": "execute_result"
    }
   ],
   "source": [
    "len(anomaly)"
   ]
  },
  {
   "cell_type": "code",
   "execution_count": 66,
   "metadata": {},
   "outputs": [],
   "source": [
    "data_df = pd.DataFrame(normal,copy=True)\n",
    "data_df = data_df.append(anomaly,ignore_index=True)"
   ]
  },
  {
   "cell_type": "code",
   "execution_count": 67,
   "metadata": {},
   "outputs": [],
   "source": [
    "\n",
    "data_df = shuffle(data_df)"
   ]
  },
  {
   "cell_type": "code",
   "execution_count": 68,
   "metadata": {},
   "outputs": [
    {
     "data": {
      "text/plain": [
       "46696"
      ]
     },
     "execution_count": 68,
     "metadata": {},
     "output_type": "execute_result"
    }
   ],
   "source": [
    "len(data_df)"
   ]
  },
  {
   "cell_type": "code",
   "execution_count": 69,
   "metadata": {},
   "outputs": [
    {
     "name": "stdout",
     "output_type": "stream",
     "text": [
      "Percentage of Anomalies : 4.760579064587973\n"
     ]
    }
   ],
   "source": [
    "l1 = len(data_df[data_df['tag']==normal_class])\n",
    "l2 = len(data_df)\n",
    "l1 = l2-l1\n",
    "print('Percentage of Anomalies :',  (l1/l2)*100 )"
   ]
  },
  {
   "cell_type": "code",
   "execution_count": null,
   "metadata": {},
   "outputs": [],
   "source": []
  },
  {
   "cell_type": "markdown",
   "metadata": {},
   "source": [
    "### Exploring the attributes\n"
   ]
  },
  {
   "cell_type": "code",
   "execution_count": 70,
   "metadata": {},
   "outputs": [],
   "source": [
    "def entropy_calc(labels):\n",
    "    n_labels = len(labels)\n",
    "    if n_labels <= 1:\n",
    "        return 0\n",
    "\n",
    "    value,counts = np.unique(labels, return_counts=True)\n",
    "    probs = counts / n_labels\n",
    "    n_classes = np.count_nonzero(probs)\n",
    "\n",
    "    if n_classes <= 1:\n",
    "        return 0\n",
    "\n",
    "    ent = 0.\n",
    "    base = math.e \n",
    "    for i in probs:\n",
    "        ent -= i * log(i, base)\n",
    "    k = len(value)\n",
    "    ent = ent/log(k,base)\n",
    "    return ent"
   ]
  },
  {
   "cell_type": "code",
   "execution_count": 71,
   "metadata": {},
   "outputs": [],
   "source": [
    "def get_entropies(df):\n",
    "    # ignore 1st and last columns\n",
    "    num_cols = len(df.columns)\n",
    "    res = {}\n",
    "    for i in range(1,num_cols-2):\n",
    "        e = entropy_calc(list(df[i]))\n",
    "        print(i,e)\n",
    "        res[i] = e\n",
    "    return res"
   ]
  },
  {
   "cell_type": "code",
   "execution_count": 72,
   "metadata": {},
   "outputs": [
    {
     "name": "stdout",
     "output_type": "stream",
     "text": [
      "1 0.8128945753630282\n",
      "2 0.5365619606382177\n",
      "3 0.3146268433035423\n",
      "4 0.1493179119568422\n",
      "5 0.044940655988095775\n",
      "6 0.9990646046935685\n",
      "7 0.860560133209749\n",
      "8 0.5712390656502361\n",
      "9 0.348553619124691\n",
      "10 0.16228135746027628\n",
      "11 0.04636793635741619\n",
      "12 0.9639275288931365\n",
      "13 0.9005578290040216\n",
      "14 0.5903502845430754\n",
      "15 0.3563617794017128\n",
      "16 0.16071102952899813\n",
      "17 0.044984193549643094\n",
      "18 0.9729298929838115\n",
      "19 0.7414536278552089\n",
      "20 0.43714389986130286\n",
      "21 0.2506794435847565\n",
      "22 0.10828283328099578\n",
      "23 0.028446668390975052\n",
      "24 0.8351745040349825\n",
      "25 0.5521190852686797\n",
      "26 0.30497349185406136\n",
      "27 0.15112030642901791\n",
      "28 0.056878803307621933\n",
      "29 0.0098593074248389\n",
      "30 0.9440298738584919\n",
      "31 0.6725325212569601\n",
      "32 0.38709179510325675\n",
      "33 0.18753162971246062\n",
      "34 0.06423337941569585\n",
      "35 0.01020267568316856\n",
      "36 0.9725335812226419\n",
      "37 0.7265288032544764\n",
      "38 0.42780292407548814\n",
      "39 0.20054498833141077\n",
      "40 0.06579808044387016\n",
      "41 0.009632923268287253\n"
     ]
    }
   ],
   "source": [
    "attr_entropy = get_entropies(data_df)\n"
   ]
  },
  {
   "cell_type": "code",
   "execution_count": 73,
   "metadata": {},
   "outputs": [
    {
     "data": {
      "image/png": "[encoded data removed]",
      "text/plain": [
       "<Figure size 1008x432 with 1 Axes>"
      ]
     },
     "metadata": {},
     "output_type": "display_data"
    }
   ],
   "source": [
    "plt.figure(figsize=[14,6])\n",
    "sns.set(style=\"whitegrid\")\n",
    "sns.barplot(x=list(attr_entropy.keys()), y=list(attr_entropy.values()))\n",
    "plt.xlabel('Attribute')\n",
    "plt.ylabel('Entropy')\n",
    "plt.title('Entropy distribution of the attributes')\n",
    "plt.show()"
   ]
  },
  {
   "cell_type": "markdown",
   "metadata": {},
   "source": [
    "## Filter attributes by threshold\n",
    "### lb =0.05\n",
    "### ub =0.95\n"
   ]
  },
  {
   "cell_type": "code",
   "execution_count": 74,
   "metadata": {},
   "outputs": [],
   "source": [
    "\n",
    "lb = 0.02\n",
    "ub = 0.98\n",
    "attr_list = []\n",
    "for k,v in attr_entropy.items():\n",
    "    if v >= lb and v<= ub:\n",
    "        attr_list.append(k)\n",
    "        "
   ]
  },
  {
   "cell_type": "code",
   "execution_count": 75,
   "metadata": {},
   "outputs": [
    {
     "data": {
      "text/plain": [
       "37"
      ]
     },
     "execution_count": 75,
     "metadata": {},
     "output_type": "execute_result"
    }
   ],
   "source": [
    "len(attr_list)"
   ]
  },
  {
   "cell_type": "code",
   "execution_count": 76,
   "metadata": {},
   "outputs": [],
   "source": [
    "valid_attr = ['id']\n",
    "valid_attr.extend(attr_list)\n",
    "valid_attr.append('tag')\n",
    "data_df = data_df[valid_attr]"
   ]
  },
  {
   "cell_type": "markdown",
   "metadata": {},
   "source": [
    "## Explore Arity of the domains"
   ]
  },
  {
   "cell_type": "code",
   "execution_count": 77,
   "metadata": {},
   "outputs": [],
   "source": [
    "def get_domain_arity(df,attr_list):\n",
    "    domain_arity = {a: len(set(df[a])) for a in attr_list}\n",
    "    return domain_arity"
   ]
  },
  {
   "cell_type": "code",
   "execution_count": 85,
   "metadata": {},
   "outputs": [
    {
     "data": {
      "image/png": "[encoded data removed]",
      "text/plain": [
       "<Figure size 1008x432 with 1 Axes>"
      ]
     },
     "metadata": {},
     "output_type": "display_data"
    }
   ],
   "source": [
    "\n",
    "domain_arity = get_domain_arity(data_df,attr_list)\n",
    "plt.figure(figsize=[14,6])\n",
    "sns.set(style=\"whitegrid\")\n",
    "sns.barplot(x=list(domain_arity.keys()), y=list(domain_arity.values()))\n",
    "plt.xlabel('Attribute')\n",
    "plt.ylabel('Arity(Cardinality)')\n",
    "plt.title('Arity distribution of the attributes')\n",
    "plt.show()  "
   ]
  },
  {
   "cell_type": "code",
   "execution_count": 52,
   "metadata": {},
   "outputs": [],
   "source": [
    "def replace_attr_with_id(row, attr, val2id_dict):\n",
    "    val = row[attr]\n",
    "    if val not in val2id_dict.keys():\n",
    "        print(attr,val)\n",
    "        return None\n",
    "    else:\n",
    "        return val2id_dict[val]\n",
    "\n",
    "\n",
    "def convert_to_ids(df, cols , save_dir):\n",
    "    domain_dims_dict = {}\n",
    "\n",
    "    for col in cols:\n",
    "\n",
    "        vals = list(set(df[col]))\n",
    "        id2val_dict = {e[0]: e[1] for e in enumerate(vals, 0)}\n",
    "\n",
    "        file_name = str(col) +'_id2val.pkl'\n",
    "        with open( os.path.join(save_dir,file_name), 'wb') as f:\n",
    "            pickle.dump(id2val_dict, f, pickle.HIGHEST_PROTOCOL)\n",
    "\n",
    "        val2id_dict = {v: k for k, v in id2val_dict.items()}\n",
    "        # replace\n",
    "        df[col] = df.apply(\n",
    "            replace_attr_with_id,\n",
    "            axis=1,\n",
    "            args=(\n",
    "                col,\n",
    "                val2id_dict,\n",
    "            )\n",
    "        )\n",
    "        domain_dims_dict[col] = len(id2val_dict)\n",
    "\n",
    "    domain_dims = []\n",
    "    domain_dims_res = {}\n",
    "\n",
    "    for col in list(df.columns):\n",
    "        if col in domain_dims_dict.keys():\n",
    "            print(col)\n",
    "            domain_dims_res[col] = domain_dims_dict[col]\n",
    "            domain_dims.append(domain_dims_dict[col])\n",
    "\n",
    "    domain_dims =  np.array(domain_dims)\n",
    "    file = 'domain_dims.pkl'\n",
    "    f_path = os.path.join(save_dir, file)\n",
    "\n",
    "    with open(f_path,'wb') as fh:\n",
    "        pickle.dump(\n",
    "            domain_dims_res,\n",
    "            fh,\n",
    "            pickle.HIGHEST_PROTOCOL\n",
    "        )\n",
    "    return df"
   ]
  },
  {
   "cell_type": "code",
   "execution_count": 79,
   "metadata": {},
   "outputs": [],
   "source": [
    "# Save the data ina numpy array\n",
    "_tmp = data_df[data_df['tag'] == normal_class]\n",
    "_normal = list(_tmp['id'])\n",
    "\n",
    "\n",
    "_tmp = data_df[(data_df['tag'] == anomaly_class_1) | (data_df['tag'] == anomaly_class_2)]\n",
    "_anomaly =  list(_tmp['id'])\n",
    "\n",
    "\n",
    "all_ids = list(data_df['id'])\n",
    "record_id_dict ={\n",
    "    'all':all_ids,\n",
    "    'normal':_normal,\n",
    "    'anomaly':_anomaly\n",
    "}"
   ]
  },
  {
   "cell_type": "code",
   "execution_count": null,
   "metadata": {},
   "outputs": [],
   "source": [
    "save_dir = '../Data/data_1'\n",
    "\n",
    "data_df_1 = pd.DataFrame(data_df,copy=True)\n",
    "try:\n",
    "    del data_df_1['id']\n",
    "    del data_df_1['tag']\n",
    "except:\n",
    "    pass\n",
    "\n",
    "# convert all values to int\n",
    "for c in list(data_df_1.columns):\n",
    "    data_df_1[c] = data_df_1[c].astype(str)  \n",
    "cols = list(data_df_1.columns)\n",
    "data_df_1 = convert_to_ids(data_df_1, cols , save_dir)\n",
    "data_x = data_df_1.values\n",
    "    "
   ]
  },
  {
   "cell_type": "code",
   "execution_count": 84,
   "metadata": {},
   "outputs": [],
   "source": [
    "OP_PATH = '../Data/data_1'\n",
    "data_x_file = 'data_1_x.pkl'\n",
    "record_file = 'data_1_idList.pkl'\n",
    "\n",
    "f_path_1 = os.path.join(OP_PATH,data_x_file)\n",
    "f_path_2 = os.path.join(OP_PATH,record_file)\n",
    "\n",
    "with open(f_path_1,'wb') as fh :\n",
    "    pickle.dump(data_x, fh,pickle.HIGHEST_PROTOCOL)\n",
    "    \n",
    "with open(f_path_2,'wb') as fh :\n",
    "    pickle.dump(record_id_dict, fh,pickle.HIGHEST_PROTOCOL)"
   ]
  },
  {
   "cell_type": "code",
   "execution_count": null,
   "metadata": {},
   "outputs": [],
   "source": []
  }
 ],
 "metadata": {
  "kernelspec": {
   "display_name": "Python 3",
   "language": "python",
   "name": "python3"
  },
  "language_info": {
   "codemirror_mode": {
    "name": "ipython",
    "version": 3
   },
   "file_extension": ".py",
   "mimetype": "text/x-python",
   "name": "python",
   "nbconvert_exporter": "python",
   "pygments_lexer": "ipython3",
   "version": "3.6.7"
  }
 },
 "nbformat": 4,
 "nbformat_minor": 2
}
